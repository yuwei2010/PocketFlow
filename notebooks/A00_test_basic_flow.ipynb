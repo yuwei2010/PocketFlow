{
 "cells": [
  {
   "cell_type": "code",
   "execution_count": 41,
   "id": "9ecfe797",
   "metadata": {},
   "outputs": [
    {
     "name": "stdout",
     "output_type": "stream",
     "text": [
      "The autoreload extension is already loaded. To reload it, use:\n",
      "  %reload_ext autoreload\n"
     ]
    }
   ],
   "source": [
    "%load_ext autoreload\n",
    "%autoreload 2"
   ]
  },
  {
   "cell_type": "code",
   "execution_count": 42,
   "id": "aab84f81",
   "metadata": {},
   "outputs": [],
   "source": [
    "from pocketflow import Node"
   ]
  },
  {
   "cell_type": "code",
   "execution_count": 43,
   "id": "cc9830f4",
   "metadata": {},
   "outputs": [],
   "source": [
    "class SummarizeFile(Node):\n",
    "    \n",
    "    def prep(self, shared):\n",
    "        return shared[\"data\"]\n",
    "\n",
    "    def exec(self, prep_res):\n",
    "        if not prep_res:\n",
    "            return \"Empty file content\"\n",
    "        prompt = f\"Summarize this text in 10 words: {prep_res}\"\n",
    "        print(f\"Prompt: {prompt}\\n\")\n",
    "        summary = \"This is the Summary\"  # might fail\n",
    "\n",
    "        return summary\n",
    "\n",
    "    def exec_fallback(self, prep_res, exc):\n",
    "        # Provide a simple fallback instead of crashing\n",
    "        return \"There was an error processing your request.\"\n",
    "\n",
    "    def post(self, shared, prep_res, exec_res):\n",
    "        shared[\"summary\"] = exec_res\n",
    "        return exec_res\n",
    "        # Return \"default\" by not returning"
   ]
  },
  {
   "cell_type": "code",
   "execution_count": 44,
   "id": "a0dffacd",
   "metadata": {},
   "outputs": [],
   "source": [
    "summarize_node = SummarizeFile(max_retries=3)"
   ]
  },
  {
   "cell_type": "code",
   "execution_count": 45,
   "id": "da3642e5",
   "metadata": {},
   "outputs": [
    {
     "name": "stdout",
     "output_type": "stream",
     "text": [
      "Prompt: Summarize this text in 10 words: This is a test file content for summarization.\n",
      "\n"
     ]
    }
   ],
   "source": [
    "shared = {'data': 'This is a test file content for summarization.'}\n",
    "action_result = summarize_node.run(shared)"
   ]
  },
  {
   "cell_type": "code",
   "execution_count": 46,
   "id": "0416e11f",
   "metadata": {},
   "outputs": [
    {
     "data": {
      "text/plain": [
       "'This is the Summary'"
      ]
     },
     "execution_count": 46,
     "metadata": {},
     "output_type": "execute_result"
    }
   ],
   "source": [
    "action_result "
   ]
  },
  {
   "cell_type": "code",
   "execution_count": 47,
   "id": "ed142604",
   "metadata": {},
   "outputs": [
    {
     "name": "stdout",
     "output_type": "stream",
     "text": [
      "Summary stored: This is the Summary\n"
     ]
    }
   ],
   "source": [
    "print(\"Summary stored:\", shared[\"summary\"])"
   ]
  }
 ],
 "metadata": {
  "kernelspec": {
   "display_name": "Python 3",
   "language": "python",
   "name": "python3"
  },
  "language_info": {
   "codemirror_mode": {
    "name": "ipython",
    "version": 3
   },
   "file_extension": ".py",
   "mimetype": "text/x-python",
   "name": "python",
   "nbconvert_exporter": "python",
   "pygments_lexer": "ipython3",
   "version": "3.13.2"
  }
 },
 "nbformat": 4,
 "nbformat_minor": 5
}
